{
 "cells": [
  {
   "cell_type": "code",
   "execution_count": 181,
   "id": "ca1aa411-bbc5-434b-9e82-a7032286f20b",
   "metadata": {},
   "outputs": [],
   "source": [
    "#Part 1 - Personal Finance Planner"
   ]
  },
  {
   "cell_type": "code",
   "execution_count": 182,
   "id": "b6d9843d-111e-443e-b6a0-63d1fc18b86f",
   "metadata": {},
   "outputs": [],
   "source": [
    "# Initial imports\n",
    "import os\n",
    "import json\n",
    "import requests\n",
    "import pandas as pd\n",
    "from dotenv import load_dotenv\n",
    "import alpaca_trade_api as tradeapi\n",
    "from MCForecastTools import MCSimulation\n",
    "\n",
    "%matplotlib inline"
   ]
  },
  {
   "cell_type": "code",
   "execution_count": 183,
   "id": "d6a94706-6396-4901-980c-b61eab517fd4",
   "metadata": {},
   "outputs": [
    {
     "data": {
      "text/plain": [
       "True"
      ]
     },
     "execution_count": 183,
     "metadata": {},
     "output_type": "execute_result"
    }
   ],
   "source": [
    "# Load .env enviroment variables\n",
    "load_dotenv()"
   ]
  },
  {
   "cell_type": "code",
   "execution_count": 184,
   "id": "cc799639-8282-406b-843d-990b558b68ee",
   "metadata": {},
   "outputs": [],
   "source": [
    "# Set current amount of crypto assets\n",
    "my_btc = 1.2\n",
    "my_eth = 5.3"
   ]
  },
  {
   "cell_type": "code",
   "execution_count": 185,
   "id": "472ec0bc-5e3e-43db-8d52-d4325df45615",
   "metadata": {},
   "outputs": [],
   "source": [
    "# Crypto API URLs\n",
    "btc_url = \"https://api.alternative.me/v2/ticker/Bitcoin/?convert=CAD\"\n",
    "eth_url = \"https://api.alternative.me/v2/ticker/Ethereum/?convert=CAD\""
   ]
  },
  {
   "cell_type": "code",
   "execution_count": 186,
   "id": "70c8cff1-881a-4c00-82ea-14685f7d986e",
   "metadata": {},
   "outputs": [
    {
     "name": "stdout",
     "output_type": "stream",
     "text": [
      "The current Bitcoin Price in CAD is: $57584.488\n"
     ]
    }
   ],
   "source": [
    "# Fetch current BTC price\n",
    "btc_data = requests.get(btc_url).json()\n",
    "btc_data_CAD = btc_data[\"data\"][\"1\"][\"quotes\"][\"CAD\"][\"price\"]\n",
    "print(f\"The current Bitcoin Price in CAD is: ${btc_data_CAD}\")"
   ]
  },
  {
   "cell_type": "code",
   "execution_count": 187,
   "id": "5f22a7bb-bba3-4181-b625-ff5f53b54b58",
   "metadata": {},
   "outputs": [
    {
     "name": "stdout",
     "output_type": "stream",
     "text": [
      "The current Ethereum Price in CAD is: $4325.88536\n"
     ]
    }
   ],
   "source": [
    "# Fetch current ETH price\n",
    "eth_data = requests.get(eth_url).json()\n",
    "eth_data_CAD = eth_data[\"data\"][\"1027\"][\"quotes\"][\"CAD\"][\"price\"]\n",
    "print(f\"The current Ethereum Price in CAD is: ${eth_data_CAD}\")"
   ]
  },
  {
   "cell_type": "code",
   "execution_count": 188,
   "id": "8ffa95a3-541f-4c35-b4f7-5f34302c98de",
   "metadata": {},
   "outputs": [],
   "source": [
    "# Compute current value of my crpto\n",
    "my_btc_value = btc_data_CAD * my_btc\n",
    "my_eth_value = eth_data_CAD * my_eth"
   ]
  },
  {
   "cell_type": "code",
   "execution_count": 189,
   "id": "14519a2c-3750-4c2f-a10d-9b7bc55053d5",
   "metadata": {},
   "outputs": [
    {
     "name": "stdout",
     "output_type": "stream",
     "text": [
      "The current value of my 1.2 BTC is $69101.39\n",
      "The current value of my 5.3 ETH is $22927.19\n"
     ]
    }
   ],
   "source": [
    "# Print current crypto wallet balance\n",
    "print(f\"The current value of my {my_btc} BTC is ${my_btc_value:0.2f}\")\n",
    "print(f\"The current value of my {my_eth} ETH is ${my_eth_value:0.2f}\")"
   ]
  },
  {
   "cell_type": "code",
   "execution_count": 190,
   "id": "b7d3d138-d8e7-4357-91b1-54798c5d6c9c",
   "metadata": {},
   "outputs": [],
   "source": [
    "#Collect Investments Data Using Alpaca: SPY (stocks) and AGG (bonds)"
   ]
  },
  {
   "cell_type": "code",
   "execution_count": 191,
   "id": "550407ef-671a-4e82-ba81-3650764f7c29",
   "metadata": {},
   "outputs": [],
   "source": [
    "# Set current amount of shares\n",
    "my_agg = 200\n",
    "my_spy = 50"
   ]
  },
  {
   "cell_type": "code",
   "execution_count": 192,
   "id": "6d06399d-1295-4046-9ab7-577e552ef487",
   "metadata": {},
   "outputs": [],
   "source": [
    "# Set Alpaca API key and secret"
   ]
  },
  {
   "cell_type": "code",
   "execution_count": 193,
   "id": "10c6d5c1-4a8a-40ba-8a75-485bfa1d7d25",
   "metadata": {},
   "outputs": [],
   "source": [
    "alpaca_api_key = os.getenv(\"ALPACA_API_KEY\")\n",
    "alpaca_secret_key = os.getenv(\"ALPACA_SECRET_API_KEY\")"
   ]
  },
  {
   "cell_type": "code",
   "execution_count": 194,
   "id": "da969d57-c7df-422f-977f-17d8d64a7a56",
   "metadata": {},
   "outputs": [],
   "source": [
    "# Create the Alpaca API object"
   ]
  },
  {
   "cell_type": "code",
   "execution_count": 195,
   "id": "e4642454-c272-4df0-b937-48e6401465b7",
   "metadata": {},
   "outputs": [],
   "source": [
    "alpaca = tradeapi.REST(\n",
    "    alpaca_api_key,\n",
    "    alpaca_secret_key,\n",
    "    api_version=\"v2\")"
   ]
  },
  {
   "cell_type": "code",
   "execution_count": 196,
   "id": "b0658cfe-f815-44da-a176-870e0e429730",
   "metadata": {},
   "outputs": [],
   "source": [
    "timeframe = \"1Day\"\n",
    "start_date = pd.Timestamp(\"2022-04-01\", tz=\"America/New_York\").isoformat()\n",
    "end_date = pd.Timestamp(\"2022-04-01\", tz=\"America/New_York\").isoformat()\n",
    "tickers= ['AGG','SPY']"
   ]
  },
  {
   "cell_type": "code",
   "execution_count": 197,
   "id": "4812156d-d4ac-499a-93ef-37e7883ed8a3",
   "metadata": {},
   "outputs": [
    {
     "data": {
      "text/html": [
       "<div>\n",
       "<style scoped>\n",
       "    .dataframe tbody tr th:only-of-type {\n",
       "        vertical-align: middle;\n",
       "    }\n",
       "\n",
       "    .dataframe tbody tr th {\n",
       "        vertical-align: top;\n",
       "    }\n",
       "\n",
       "    .dataframe thead th {\n",
       "        text-align: right;\n",
       "    }\n",
       "</style>\n",
       "<table border=\"1\" class=\"dataframe\">\n",
       "  <thead>\n",
       "    <tr style=\"text-align: right;\">\n",
       "      <th></th>\n",
       "      <th>open</th>\n",
       "      <th>high</th>\n",
       "      <th>low</th>\n",
       "      <th>close</th>\n",
       "      <th>volume</th>\n",
       "      <th>trade_count</th>\n",
       "      <th>vwap</th>\n",
       "      <th>symbol</th>\n",
       "    </tr>\n",
       "    <tr>\n",
       "      <th>timestamp</th>\n",
       "      <th></th>\n",
       "      <th></th>\n",
       "      <th></th>\n",
       "      <th></th>\n",
       "      <th></th>\n",
       "      <th></th>\n",
       "      <th></th>\n",
       "      <th></th>\n",
       "    </tr>\n",
       "  </thead>\n",
       "  <tbody>\n",
       "    <tr>\n",
       "      <th>2022-04-01 04:00:00+00:00</th>\n",
       "      <td>106.35</td>\n",
       "      <td>106.95</td>\n",
       "      <td>106.25</td>\n",
       "      <td>106.75</td>\n",
       "      <td>11579091</td>\n",
       "      <td>40126</td>\n",
       "      <td>106.667931</td>\n",
       "      <td>AGG</td>\n",
       "    </tr>\n",
       "    <tr>\n",
       "      <th>2022-04-01 04:00:00+00:00</th>\n",
       "      <td>453.30</td>\n",
       "      <td>453.46</td>\n",
       "      <td>449.14</td>\n",
       "      <td>452.92</td>\n",
       "      <td>88676014</td>\n",
       "      <td>624745</td>\n",
       "      <td>451.850848</td>\n",
       "      <td>SPY</td>\n",
       "    </tr>\n",
       "  </tbody>\n",
       "</table>\n",
       "</div>"
      ],
      "text/plain": [
       "                             open    high     low   close    volume  \\\n",
       "timestamp                                                             \n",
       "2022-04-01 04:00:00+00:00  106.35  106.95  106.25  106.75  11579091   \n",
       "2022-04-01 04:00:00+00:00  453.30  453.46  449.14  452.92  88676014   \n",
       "\n",
       "                           trade_count        vwap symbol  \n",
       "timestamp                                                  \n",
       "2022-04-01 04:00:00+00:00        40126  106.667931    AGG  \n",
       "2022-04-01 04:00:00+00:00       624745  451.850848    SPY  "
      ]
     },
     "execution_count": 197,
     "metadata": {},
     "output_type": "execute_result"
    }
   ],
   "source": [
    "df = alpaca.get_bars(\n",
    "    tickers,\n",
    "    timeframe,\n",
    "    start=start_date,\n",
    "    end=end_date\n",
    ").df\n",
    "\n",
    "df.head()"
   ]
  },
  {
   "cell_type": "code",
   "execution_count": 198,
   "id": "83f250a5-ee48-42f2-a1db-55ebee0c1ac7",
   "metadata": {},
   "outputs": [],
   "source": [
    "# Reorganize the DataFrame\n",
    "# Separate ticker data"
   ]
  },
  {
   "cell_type": "code",
   "execution_count": 199,
   "id": "b04bc4ff-ec12-4fcc-8bbf-cf84958d3c4e",
   "metadata": {},
   "outputs": [],
   "source": [
    "AGG = df[df['symbol']=='AGG'].drop('symbol', axis=1)\n",
    "SPY = df[df['symbol']=='SPY'].drop('symbol', axis=1)"
   ]
  },
  {
   "cell_type": "code",
   "execution_count": 200,
   "id": "036b90af-2b3d-4c06-8a4d-b09b4a792227",
   "metadata": {},
   "outputs": [
    {
     "data": {
      "text/html": [
       "<div>\n",
       "<style scoped>\n",
       "    .dataframe tbody tr th:only-of-type {\n",
       "        vertical-align: middle;\n",
       "    }\n",
       "\n",
       "    .dataframe tbody tr th {\n",
       "        vertical-align: top;\n",
       "    }\n",
       "\n",
       "    .dataframe thead tr th {\n",
       "        text-align: left;\n",
       "    }\n",
       "\n",
       "    .dataframe thead tr:last-of-type th {\n",
       "        text-align: right;\n",
       "    }\n",
       "</style>\n",
       "<table border=\"1\" class=\"dataframe\">\n",
       "  <thead>\n",
       "    <tr>\n",
       "      <th></th>\n",
       "      <th colspan=\"7\" halign=\"left\">AGG</th>\n",
       "      <th colspan=\"7\" halign=\"left\">SPY</th>\n",
       "    </tr>\n",
       "    <tr>\n",
       "      <th></th>\n",
       "      <th>open</th>\n",
       "      <th>high</th>\n",
       "      <th>low</th>\n",
       "      <th>close</th>\n",
       "      <th>volume</th>\n",
       "      <th>trade_count</th>\n",
       "      <th>vwap</th>\n",
       "      <th>open</th>\n",
       "      <th>high</th>\n",
       "      <th>low</th>\n",
       "      <th>close</th>\n",
       "      <th>volume</th>\n",
       "      <th>trade_count</th>\n",
       "      <th>vwap</th>\n",
       "    </tr>\n",
       "    <tr>\n",
       "      <th>timestamp</th>\n",
       "      <th></th>\n",
       "      <th></th>\n",
       "      <th></th>\n",
       "      <th></th>\n",
       "      <th></th>\n",
       "      <th></th>\n",
       "      <th></th>\n",
       "      <th></th>\n",
       "      <th></th>\n",
       "      <th></th>\n",
       "      <th></th>\n",
       "      <th></th>\n",
       "      <th></th>\n",
       "      <th></th>\n",
       "    </tr>\n",
       "  </thead>\n",
       "  <tbody>\n",
       "    <tr>\n",
       "      <th>2022-04-01 04:00:00+00:00</th>\n",
       "      <td>106.35</td>\n",
       "      <td>106.95</td>\n",
       "      <td>106.25</td>\n",
       "      <td>106.75</td>\n",
       "      <td>11579091</td>\n",
       "      <td>40126</td>\n",
       "      <td>106.667931</td>\n",
       "      <td>453.3</td>\n",
       "      <td>453.46</td>\n",
       "      <td>449.14</td>\n",
       "      <td>452.92</td>\n",
       "      <td>88676014</td>\n",
       "      <td>624745</td>\n",
       "      <td>451.850848</td>\n",
       "    </tr>\n",
       "  </tbody>\n",
       "</table>\n",
       "</div>"
      ],
      "text/plain": [
       "                              AGG                                    \\\n",
       "                             open    high     low   close    volume   \n",
       "timestamp                                                             \n",
       "2022-04-01 04:00:00+00:00  106.35  106.95  106.25  106.75  11579091   \n",
       "\n",
       "                                                     SPY                  \\\n",
       "                          trade_count        vwap   open    high     low   \n",
       "timestamp                                                                  \n",
       "2022-04-01 04:00:00+00:00       40126  106.667931  453.3  453.46  449.14   \n",
       "\n",
       "                                                                     \n",
       "                            close    volume trade_count        vwap  \n",
       "timestamp                                                            \n",
       "2022-04-01 04:00:00+00:00  452.92  88676014      624745  451.850848  "
      ]
     },
     "execution_count": 200,
     "metadata": {},
     "output_type": "execute_result"
    }
   ],
   "source": [
    "# Concatenate the ticker DataFrames\n",
    "df = pd.concat([AGG, SPY], axis=1, keys=[\"AGG\", \"SPY\"])\n",
    "df.head()"
   ]
  },
  {
   "cell_type": "code",
   "execution_count": 201,
   "id": "9b163995-9a01-4596-ab29-61ef10c1d3bc",
   "metadata": {},
   "outputs": [],
   "source": [
    "# Pick AGG and SPY close prices"
   ]
  },
  {
   "cell_type": "code",
   "execution_count": 202,
   "id": "2afd1902-af49-470d-b1dd-0ffa4f16b50a",
   "metadata": {},
   "outputs": [],
   "source": [
    "agg_close_price = float(df['AGG']['close'])"
   ]
  },
  {
   "cell_type": "code",
   "execution_count": 203,
   "id": "338cae86-383d-4d35-bbab-6ece7f3f8306",
   "metadata": {},
   "outputs": [
    {
     "data": {
      "text/plain": [
       "106.75"
      ]
     },
     "execution_count": 203,
     "metadata": {},
     "output_type": "execute_result"
    }
   ],
   "source": [
    "agg_close_price"
   ]
  },
  {
   "cell_type": "code",
   "execution_count": 204,
   "id": "75527347-2aeb-4f68-9bcc-b5fc8cd155a0",
   "metadata": {},
   "outputs": [
    {
     "data": {
      "text/plain": [
       "452.92"
      ]
     },
     "execution_count": 204,
     "metadata": {},
     "output_type": "execute_result"
    }
   ],
   "source": [
    "spy_close_price = float(df['SPY']['close'])\n",
    "spy_close_price"
   ]
  },
  {
   "cell_type": "code",
   "execution_count": 205,
   "id": "ff54450b-885a-4b3c-bdb5-cbc3b557762c",
   "metadata": {},
   "outputs": [
    {
     "name": "stdout",
     "output_type": "stream",
     "text": [
      "Current AGG closing price: $106.75\n",
      "Current SPY closing price: $452.92\n"
     ]
    }
   ],
   "source": [
    "# Print AGG and SPY close prices\n",
    "print(f\"Current AGG closing price: ${agg_close_price}\")\n",
    "print(f\"Current SPY closing price: ${spy_close_price}\")"
   ]
  },
  {
   "cell_type": "code",
   "execution_count": 206,
   "id": "d6a26dad-d069-47b5-ad7c-d1e059df4669",
   "metadata": {},
   "outputs": [],
   "source": [
    "# Compute the current value of shares\n",
    "my_spy_value = spy_close_price * my_spy\n",
    "my_agg_value = agg_close_price * my_agg"
   ]
  },
  {
   "cell_type": "code",
   "execution_count": 207,
   "id": "445246d0-8ec0-4698-854b-f206eaa3d862",
   "metadata": {},
   "outputs": [
    {
     "name": "stdout",
     "output_type": "stream",
     "text": [
      "The current value of my 50 SPY shares is $22646.00\n",
      "The current value of my 200 AGG shares is $21350.00\n"
     ]
    }
   ],
   "source": [
    "# Print current value of shares\n",
    "print(f\"The current value of my {my_spy} SPY shares is ${my_spy_value:0.2f}\")\n",
    "print(f\"The current value of my {my_agg} AGG shares is ${my_agg_value:0.2f}\")"
   ]
  },
  {
   "cell_type": "code",
   "execution_count": 208,
   "id": "a1b356bf-50a4-42dc-8bf6-6ac0a49b5782",
   "metadata": {},
   "outputs": [],
   "source": [
    "#Savings Health Analysis"
   ]
  },
  {
   "cell_type": "code",
   "execution_count": 209,
   "id": "d0e91a8b-a695-4acc-8333-1c53b1c7335d",
   "metadata": {},
   "outputs": [],
   "source": [
    "# Set monthly household income\n",
    "monthly_income = 12000"
   ]
  },
  {
   "cell_type": "code",
   "execution_count": 210,
   "id": "cf30449d-ab16-447f-9bae-aeaba5b74822",
   "metadata": {},
   "outputs": [],
   "source": [
    "# Consolidate financial assets data\n",
    "crypto = my_btc_value + my_eth_value\n",
    "shares = my_spy_value + my_agg_value"
   ]
  },
  {
   "cell_type": "code",
   "execution_count": 211,
   "id": "cffeaa89-8ce3-4ef2-a698-ba8bc8a48925",
   "metadata": {},
   "outputs": [
    {
     "data": {
      "text/plain": [
       "92028.578008"
      ]
     },
     "execution_count": 211,
     "metadata": {},
     "output_type": "execute_result"
    }
   ],
   "source": [
    "crypto"
   ]
  },
  {
   "cell_type": "code",
   "execution_count": 212,
   "id": "9cf809db-87a9-46f4-945d-f59f047704f6",
   "metadata": {},
   "outputs": [
    {
     "data": {
      "text/plain": [
       "43996.0"
      ]
     },
     "execution_count": 212,
     "metadata": {},
     "output_type": "execute_result"
    }
   ],
   "source": [
    "shares"
   ]
  },
  {
   "cell_type": "code",
   "execution_count": 213,
   "id": "09c4a3ed-6401-41f3-9e40-69763f07455d",
   "metadata": {},
   "outputs": [],
   "source": [
    "df_savings = { 'Assets' : ['Crypto', 'Shares'],\n",
    "               'Total (CAD $)' : [92375.71, 43996.00]\n",
    "             }"
   ]
  },
  {
   "cell_type": "code",
   "execution_count": 214,
   "id": "f294db07-2651-4521-b05c-b7a35750e564",
   "metadata": {},
   "outputs": [
    {
     "data": {
      "text/plain": [
       "{'Assets': ['Crypto', 'Shares'], 'Total (CAD $)': [92375.71, 43996.0]}"
      ]
     },
     "execution_count": 214,
     "metadata": {},
     "output_type": "execute_result"
    }
   ],
   "source": [
    "df_savings"
   ]
  },
  {
   "cell_type": "code",
   "execution_count": 215,
   "id": "befaa72b-b1e1-4b0f-8f2b-4b0ab4b48604",
   "metadata": {},
   "outputs": [],
   "source": [
    "final_analysis = pd.DataFrame(df_savings)"
   ]
  },
  {
   "cell_type": "code",
   "execution_count": 216,
   "id": "aadb2260-98f1-4fe3-9227-0e1ebc8dbbe3",
   "metadata": {},
   "outputs": [],
   "source": [
    "final_analysis = final_analysis.set_index(['Assets'])"
   ]
  },
  {
   "cell_type": "code",
   "execution_count": 217,
   "id": "23140014-6842-4098-96ff-f19db5b83b30",
   "metadata": {},
   "outputs": [
    {
     "data": {
      "text/html": [
       "<div>\n",
       "<style scoped>\n",
       "    .dataframe tbody tr th:only-of-type {\n",
       "        vertical-align: middle;\n",
       "    }\n",
       "\n",
       "    .dataframe tbody tr th {\n",
       "        vertical-align: top;\n",
       "    }\n",
       "\n",
       "    .dataframe thead th {\n",
       "        text-align: right;\n",
       "    }\n",
       "</style>\n",
       "<table border=\"1\" class=\"dataframe\">\n",
       "  <thead>\n",
       "    <tr style=\"text-align: right;\">\n",
       "      <th></th>\n",
       "      <th>Total (CAD $)</th>\n",
       "    </tr>\n",
       "    <tr>\n",
       "      <th>Assets</th>\n",
       "      <th></th>\n",
       "    </tr>\n",
       "  </thead>\n",
       "  <tbody>\n",
       "    <tr>\n",
       "      <th>Crypto</th>\n",
       "      <td>92375.71</td>\n",
       "    </tr>\n",
       "    <tr>\n",
       "      <th>Shares</th>\n",
       "      <td>43996.00</td>\n",
       "    </tr>\n",
       "  </tbody>\n",
       "</table>\n",
       "</div>"
      ],
      "text/plain": [
       "        Total (CAD $)\n",
       "Assets               \n",
       "Crypto       92375.71\n",
       "Shares       43996.00"
      ]
     },
     "execution_count": 217,
     "metadata": {},
     "output_type": "execute_result"
    }
   ],
   "source": [
    "final_analysis"
   ]
  },
  {
   "cell_type": "code",
   "execution_count": 218,
   "id": "fe427d50-89ef-4e17-ab84-26cf6c0ed34d",
   "metadata": {},
   "outputs": [],
   "source": [
    "# Plot savings pie chart"
   ]
  },
  {
   "cell_type": "code",
   "execution_count": 219,
   "id": "24a726f9-e8be-427e-a17a-c4e85f10b9d2",
   "metadata": {},
   "outputs": [
    {
     "data": {
      "text/plain": [
       "<AxesSubplot:title={'center':'My Savings'}, ylabel='Total (CAD $)'>"
      ]
     },
     "execution_count": 219,
     "metadata": {},
     "output_type": "execute_result"
    },
    {
     "data": {
      "image/png": "[encoded data removed]",
      "text/plain": [
       "<Figure size 432x288 with 1 Axes>"
      ]
     },
     "metadata": {},
     "output_type": "display_data"
    }
   ],
   "source": [
    "final_analysis.plot.pie(y=\"Total (CAD $)\", title=\"My Savings\")"
   ]
  },
  {
   "cell_type": "code",
   "execution_count": 220,
   "id": "159003f3-5aa7-46bf-9ba9-2560d5a9866a",
   "metadata": {},
   "outputs": [],
   "source": [
    "# Set ideal emergency fund\n",
    "emergency_fund = monthly_income * 3"
   ]
  },
  {
   "cell_type": "code",
   "execution_count": 221,
   "id": "4d39e576-024b-41db-81c1-5bd5762d7335",
   "metadata": {},
   "outputs": [
    {
     "data": {
      "text/plain": [
       "136024.57800799998"
      ]
     },
     "execution_count": 221,
     "metadata": {},
     "output_type": "execute_result"
    }
   ],
   "source": [
    "# Calculate total amount of savings\n",
    "total_savings = crypto + shares\n",
    "total_savings"
   ]
  },
  {
   "cell_type": "code",
   "execution_count": 222,
   "id": "a75a8026-5a86-4274-967b-83d49b21203e",
   "metadata": {},
   "outputs": [
    {
     "name": "stdout",
     "output_type": "stream",
     "text": [
      "Congratulations! You have more than enough money in your emergency fund.\n"
     ]
    }
   ],
   "source": [
    "if total_savings > emergency_fund:\n",
    "    print(f\"Congratulations! You have more than enough money in your emergency fund.\")\n",
    "elif total_savings == emergency_fund:\n",
    "    print(f\"Congratulations! You are up par with your emergency fund.\")\n",
    "else:\n",
    "    print(f\"Failure!!! You need {'emergency_fund' - 'total_savings'} in your savings account\")"
   ]
  },
  {
   "cell_type": "code",
   "execution_count": 223,
   "id": "bc640e64-38e5-4820-84ad-178ded4563a2",
   "metadata": {},
   "outputs": [],
   "source": [
    "#Part 2 - Retirement Planning\n",
    "#Monte Carlo Simulation"
   ]
  },
  {
   "cell_type": "code",
   "execution_count": 224,
   "id": "43939fa5-2de1-433a-879d-ccd12cfbb743",
   "metadata": {},
   "outputs": [],
   "source": [
    "# Set start and end dates of five years back from today.\n",
    "start_date2 = pd.Timestamp('2017-04-02', tz='America/New_York').isoformat()\n",
    "end_date2 = pd.Timestamp('2022-04-02', tz='America/New_York').isoformat()"
   ]
  },
  {
   "cell_type": "code",
   "execution_count": 225,
   "id": "7cfa9af0-39f6-4508-bbe6-8a710dedf918",
   "metadata": {},
   "outputs": [
    {
     "data": {
      "text/html": [
       "<div>\n",
       "<style scoped>\n",
       "    .dataframe tbody tr th:only-of-type {\n",
       "        vertical-align: middle;\n",
       "    }\n",
       "\n",
       "    .dataframe tbody tr th {\n",
       "        vertical-align: top;\n",
       "    }\n",
       "\n",
       "    .dataframe thead th {\n",
       "        text-align: right;\n",
       "    }\n",
       "</style>\n",
       "<table border=\"1\" class=\"dataframe\">\n",
       "  <thead>\n",
       "    <tr style=\"text-align: right;\">\n",
       "      <th></th>\n",
       "      <th>open</th>\n",
       "      <th>high</th>\n",
       "      <th>low</th>\n",
       "      <th>close</th>\n",
       "      <th>volume</th>\n",
       "      <th>trade_count</th>\n",
       "      <th>vwap</th>\n",
       "      <th>symbol</th>\n",
       "    </tr>\n",
       "    <tr>\n",
       "      <th>timestamp</th>\n",
       "      <th></th>\n",
       "      <th></th>\n",
       "      <th></th>\n",
       "      <th></th>\n",
       "      <th></th>\n",
       "      <th></th>\n",
       "      <th></th>\n",
       "      <th></th>\n",
       "    </tr>\n",
       "  </thead>\n",
       "  <tbody>\n",
       "    <tr>\n",
       "      <th>2017-04-03 04:00:00+00:00</th>\n",
       "      <td>108.31</td>\n",
       "      <td>108.680</td>\n",
       "      <td>108.300</td>\n",
       "      <td>108.67</td>\n",
       "      <td>5198006</td>\n",
       "      <td>15992</td>\n",
       "      <td>108.605513</td>\n",
       "      <td>AGG</td>\n",
       "    </tr>\n",
       "    <tr>\n",
       "      <th>2017-04-04 04:00:00+00:00</th>\n",
       "      <td>108.61</td>\n",
       "      <td>108.650</td>\n",
       "      <td>108.520</td>\n",
       "      <td>108.57</td>\n",
       "      <td>1627492</td>\n",
       "      <td>8325</td>\n",
       "      <td>108.591265</td>\n",
       "      <td>AGG</td>\n",
       "    </tr>\n",
       "    <tr>\n",
       "      <th>2017-04-05 04:00:00+00:00</th>\n",
       "      <td>108.48</td>\n",
       "      <td>108.740</td>\n",
       "      <td>108.453</td>\n",
       "      <td>108.69</td>\n",
       "      <td>2304074</td>\n",
       "      <td>11167</td>\n",
       "      <td>108.599103</td>\n",
       "      <td>AGG</td>\n",
       "    </tr>\n",
       "    <tr>\n",
       "      <th>2017-04-06 04:00:00+00:00</th>\n",
       "      <td>108.64</td>\n",
       "      <td>108.710</td>\n",
       "      <td>108.480</td>\n",
       "      <td>108.68</td>\n",
       "      <td>1725301</td>\n",
       "      <td>7746</td>\n",
       "      <td>108.588276</td>\n",
       "      <td>AGG</td>\n",
       "    </tr>\n",
       "    <tr>\n",
       "      <th>2017-04-07 04:00:00+00:00</th>\n",
       "      <td>108.80</td>\n",
       "      <td>108.890</td>\n",
       "      <td>108.420</td>\n",
       "      <td>108.44</td>\n",
       "      <td>1783599</td>\n",
       "      <td>8534</td>\n",
       "      <td>108.645684</td>\n",
       "      <td>AGG</td>\n",
       "    </tr>\n",
       "    <tr>\n",
       "      <th>...</th>\n",
       "      <td>...</td>\n",
       "      <td>...</td>\n",
       "      <td>...</td>\n",
       "      <td>...</td>\n",
       "      <td>...</td>\n",
       "      <td>...</td>\n",
       "      <td>...</td>\n",
       "      <td>...</td>\n",
       "    </tr>\n",
       "    <tr>\n",
       "      <th>2022-03-28 04:00:00+00:00</th>\n",
       "      <td>452.05</td>\n",
       "      <td>455.910</td>\n",
       "      <td>450.060</td>\n",
       "      <td>455.84</td>\n",
       "      <td>68744767</td>\n",
       "      <td>624225</td>\n",
       "      <td>453.296491</td>\n",
       "      <td>SPY</td>\n",
       "    </tr>\n",
       "    <tr>\n",
       "      <th>2022-03-29 04:00:00+00:00</th>\n",
       "      <td>460.07</td>\n",
       "      <td>462.070</td>\n",
       "      <td>457.180</td>\n",
       "      <td>461.53</td>\n",
       "      <td>86682895</td>\n",
       "      <td>738526</td>\n",
       "      <td>459.632992</td>\n",
       "      <td>SPY</td>\n",
       "    </tr>\n",
       "    <tr>\n",
       "      <th>2022-03-30 04:00:00+00:00</th>\n",
       "      <td>460.29</td>\n",
       "      <td>461.195</td>\n",
       "      <td>456.465</td>\n",
       "      <td>458.79</td>\n",
       "      <td>79668682</td>\n",
       "      <td>659199</td>\n",
       "      <td>459.158702</td>\n",
       "      <td>SPY</td>\n",
       "    </tr>\n",
       "    <tr>\n",
       "      <th>2022-03-31 04:00:00+00:00</th>\n",
       "      <td>457.92</td>\n",
       "      <td>458.760</td>\n",
       "      <td>451.160</td>\n",
       "      <td>452.11</td>\n",
       "      <td>118607132</td>\n",
       "      <td>751169</td>\n",
       "      <td>455.444107</td>\n",
       "      <td>SPY</td>\n",
       "    </tr>\n",
       "    <tr>\n",
       "      <th>2022-04-01 04:00:00+00:00</th>\n",
       "      <td>453.30</td>\n",
       "      <td>453.460</td>\n",
       "      <td>449.140</td>\n",
       "      <td>452.92</td>\n",
       "      <td>88676014</td>\n",
       "      <td>624745</td>\n",
       "      <td>451.850848</td>\n",
       "      <td>SPY</td>\n",
       "    </tr>\n",
       "  </tbody>\n",
       "</table>\n",
       "<p>2520 rows × 8 columns</p>\n",
       "</div>"
      ],
      "text/plain": [
       "                             open     high      low   close     volume  \\\n",
       "timestamp                                                                \n",
       "2017-04-03 04:00:00+00:00  108.31  108.680  108.300  108.67    5198006   \n",
       "2017-04-04 04:00:00+00:00  108.61  108.650  108.520  108.57    1627492   \n",
       "2017-04-05 04:00:00+00:00  108.48  108.740  108.453  108.69    2304074   \n",
       "2017-04-06 04:00:00+00:00  108.64  108.710  108.480  108.68    1725301   \n",
       "2017-04-07 04:00:00+00:00  108.80  108.890  108.420  108.44    1783599   \n",
       "...                           ...      ...      ...     ...        ...   \n",
       "2022-03-28 04:00:00+00:00  452.05  455.910  450.060  455.84   68744767   \n",
       "2022-03-29 04:00:00+00:00  460.07  462.070  457.180  461.53   86682895   \n",
       "2022-03-30 04:00:00+00:00  460.29  461.195  456.465  458.79   79668682   \n",
       "2022-03-31 04:00:00+00:00  457.92  458.760  451.160  452.11  118607132   \n",
       "2022-04-01 04:00:00+00:00  453.30  453.460  449.140  452.92   88676014   \n",
       "\n",
       "                           trade_count        vwap symbol  \n",
       "timestamp                                                  \n",
       "2017-04-03 04:00:00+00:00        15992  108.605513    AGG  \n",
       "2017-04-04 04:00:00+00:00         8325  108.591265    AGG  \n",
       "2017-04-05 04:00:00+00:00        11167  108.599103    AGG  \n",
       "2017-04-06 04:00:00+00:00         7746  108.588276    AGG  \n",
       "2017-04-07 04:00:00+00:00         8534  108.645684    AGG  \n",
       "...                                ...         ...    ...  \n",
       "2022-03-28 04:00:00+00:00       624225  453.296491    SPY  \n",
       "2022-03-29 04:00:00+00:00       738526  459.632992    SPY  \n",
       "2022-03-30 04:00:00+00:00       659199  459.158702    SPY  \n",
       "2022-03-31 04:00:00+00:00       751169  455.444107    SPY  \n",
       "2022-04-01 04:00:00+00:00       624745  451.850848    SPY  \n",
       "\n",
       "[2520 rows x 8 columns]"
      ]
     },
     "execution_count": 225,
     "metadata": {},
     "output_type": "execute_result"
    }
   ],
   "source": [
    "# Get 5 years' worth of historical data for SPY and AGG\n",
    "df_5years = alpaca.get_bars(\n",
    "    tickers,\n",
    "    timeframe,\n",
    "    start=start_date2,\n",
    "    end=end_date2\n",
    ").df\n",
    "\n",
    "df_5years"
   ]
  },
  {
   "cell_type": "code",
   "execution_count": 226,
   "id": "c4a15bec-42a1-484e-9623-28ce08828bca",
   "metadata": {},
   "outputs": [],
   "source": [
    "# Reorganize the DataFrame\n",
    "# Separate ticker data"
   ]
  },
  {
   "cell_type": "code",
   "execution_count": 227,
   "id": "1dadedf3-c6d6-44d3-94a8-5826857694ab",
   "metadata": {},
   "outputs": [],
   "source": [
    "AGG_5years = df_5years[df_5years['symbol']=='AGG'].drop('symbol', axis=1)\n",
    "SPY_5years = df_5years[df_5years['symbol']=='SPY'].drop('symbol', axis=1)"
   ]
  },
  {
   "cell_type": "code",
   "execution_count": 228,
   "id": "243091d3-84a2-4d04-a8a5-c38aecf0a500",
   "metadata": {},
   "outputs": [
    {
     "data": {
      "text/html": [
       "<div>\n",
       "<style scoped>\n",
       "    .dataframe tbody tr th:only-of-type {\n",
       "        vertical-align: middle;\n",
       "    }\n",
       "\n",
       "    .dataframe tbody tr th {\n",
       "        vertical-align: top;\n",
       "    }\n",
       "\n",
       "    .dataframe thead tr th {\n",
       "        text-align: left;\n",
       "    }\n",
       "\n",
       "    .dataframe thead tr:last-of-type th {\n",
       "        text-align: right;\n",
       "    }\n",
       "</style>\n",
       "<table border=\"1\" class=\"dataframe\">\n",
       "  <thead>\n",
       "    <tr>\n",
       "      <th></th>\n",
       "      <th colspan=\"7\" halign=\"left\">AGG</th>\n",
       "      <th colspan=\"7\" halign=\"left\">SPY</th>\n",
       "    </tr>\n",
       "    <tr>\n",
       "      <th></th>\n",
       "      <th>open</th>\n",
       "      <th>high</th>\n",
       "      <th>low</th>\n",
       "      <th>close</th>\n",
       "      <th>volume</th>\n",
       "      <th>trade_count</th>\n",
       "      <th>vwap</th>\n",
       "      <th>open</th>\n",
       "      <th>high</th>\n",
       "      <th>low</th>\n",
       "      <th>close</th>\n",
       "      <th>volume</th>\n",
       "      <th>trade_count</th>\n",
       "      <th>vwap</th>\n",
       "    </tr>\n",
       "    <tr>\n",
       "      <th>timestamp</th>\n",
       "      <th></th>\n",
       "      <th></th>\n",
       "      <th></th>\n",
       "      <th></th>\n",
       "      <th></th>\n",
       "      <th></th>\n",
       "      <th></th>\n",
       "      <th></th>\n",
       "      <th></th>\n",
       "      <th></th>\n",
       "      <th></th>\n",
       "      <th></th>\n",
       "      <th></th>\n",
       "      <th></th>\n",
       "    </tr>\n",
       "  </thead>\n",
       "  <tbody>\n",
       "    <tr>\n",
       "      <th>2017-04-03 04:00:00+00:00</th>\n",
       "      <td>108.31</td>\n",
       "      <td>108.6800</td>\n",
       "      <td>108.300</td>\n",
       "      <td>108.67</td>\n",
       "      <td>5198006</td>\n",
       "      <td>15992</td>\n",
       "      <td>108.605513</td>\n",
       "      <td>235.79</td>\n",
       "      <td>236.030</td>\n",
       "      <td>233.910</td>\n",
       "      <td>235.33</td>\n",
       "      <td>85546486</td>\n",
       "      <td>278486</td>\n",
       "      <td>235.194832</td>\n",
       "    </tr>\n",
       "    <tr>\n",
       "      <th>2017-04-04 04:00:00+00:00</th>\n",
       "      <td>108.61</td>\n",
       "      <td>108.6500</td>\n",
       "      <td>108.520</td>\n",
       "      <td>108.57</td>\n",
       "      <td>1627492</td>\n",
       "      <td>8325</td>\n",
       "      <td>108.591265</td>\n",
       "      <td>235.00</td>\n",
       "      <td>235.580</td>\n",
       "      <td>234.555</td>\n",
       "      <td>235.48</td>\n",
       "      <td>56466195</td>\n",
       "      <td>192579</td>\n",
       "      <td>235.237449</td>\n",
       "    </tr>\n",
       "    <tr>\n",
       "      <th>2017-04-05 04:00:00+00:00</th>\n",
       "      <td>108.48</td>\n",
       "      <td>108.7400</td>\n",
       "      <td>108.453</td>\n",
       "      <td>108.69</td>\n",
       "      <td>2304074</td>\n",
       "      <td>11167</td>\n",
       "      <td>108.599103</td>\n",
       "      <td>236.26</td>\n",
       "      <td>237.390</td>\n",
       "      <td>234.540</td>\n",
       "      <td>234.78</td>\n",
       "      <td>108800604</td>\n",
       "      <td>363080</td>\n",
       "      <td>235.933657</td>\n",
       "    </tr>\n",
       "    <tr>\n",
       "      <th>2017-04-06 04:00:00+00:00</th>\n",
       "      <td>108.64</td>\n",
       "      <td>108.7100</td>\n",
       "      <td>108.480</td>\n",
       "      <td>108.68</td>\n",
       "      <td>1725301</td>\n",
       "      <td>7746</td>\n",
       "      <td>108.588276</td>\n",
       "      <td>234.96</td>\n",
       "      <td>236.040</td>\n",
       "      <td>234.425</td>\n",
       "      <td>235.44</td>\n",
       "      <td>69135757</td>\n",
       "      <td>244996</td>\n",
       "      <td>235.287745</td>\n",
       "    </tr>\n",
       "    <tr>\n",
       "      <th>2017-04-07 04:00:00+00:00</th>\n",
       "      <td>108.80</td>\n",
       "      <td>108.8900</td>\n",
       "      <td>108.420</td>\n",
       "      <td>108.44</td>\n",
       "      <td>1783599</td>\n",
       "      <td>8534</td>\n",
       "      <td>108.645684</td>\n",
       "      <td>235.18</td>\n",
       "      <td>236.000</td>\n",
       "      <td>234.640</td>\n",
       "      <td>235.20</td>\n",
       "      <td>74412311</td>\n",
       "      <td>235941</td>\n",
       "      <td>235.290964</td>\n",
       "    </tr>\n",
       "    <tr>\n",
       "      <th>...</th>\n",
       "      <td>...</td>\n",
       "      <td>...</td>\n",
       "      <td>...</td>\n",
       "      <td>...</td>\n",
       "      <td>...</td>\n",
       "      <td>...</td>\n",
       "      <td>...</td>\n",
       "      <td>...</td>\n",
       "      <td>...</td>\n",
       "      <td>...</td>\n",
       "      <td>...</td>\n",
       "      <td>...</td>\n",
       "      <td>...</td>\n",
       "      <td>...</td>\n",
       "    </tr>\n",
       "    <tr>\n",
       "      <th>2022-03-28 04:00:00+00:00</th>\n",
       "      <td>106.25</td>\n",
       "      <td>106.5252</td>\n",
       "      <td>106.160</td>\n",
       "      <td>106.36</td>\n",
       "      <td>8540551</td>\n",
       "      <td>27246</td>\n",
       "      <td>106.295912</td>\n",
       "      <td>452.05</td>\n",
       "      <td>455.910</td>\n",
       "      <td>450.060</td>\n",
       "      <td>455.84</td>\n",
       "      <td>68744767</td>\n",
       "      <td>624225</td>\n",
       "      <td>453.296491</td>\n",
       "    </tr>\n",
       "    <tr>\n",
       "      <th>2022-03-29 04:00:00+00:00</th>\n",
       "      <td>106.61</td>\n",
       "      <td>106.8900</td>\n",
       "      <td>106.455</td>\n",
       "      <td>106.86</td>\n",
       "      <td>11396549</td>\n",
       "      <td>33651</td>\n",
       "      <td>106.734051</td>\n",
       "      <td>460.07</td>\n",
       "      <td>462.070</td>\n",
       "      <td>457.180</td>\n",
       "      <td>461.53</td>\n",
       "      <td>86682895</td>\n",
       "      <td>738526</td>\n",
       "      <td>459.632992</td>\n",
       "    </tr>\n",
       "    <tr>\n",
       "      <th>2022-03-30 04:00:00+00:00</th>\n",
       "      <td>106.60</td>\n",
       "      <td>107.1500</td>\n",
       "      <td>106.590</td>\n",
       "      <td>107.15</td>\n",
       "      <td>11544378</td>\n",
       "      <td>24975</td>\n",
       "      <td>107.007713</td>\n",
       "      <td>460.29</td>\n",
       "      <td>461.195</td>\n",
       "      <td>456.465</td>\n",
       "      <td>458.79</td>\n",
       "      <td>79668682</td>\n",
       "      <td>659199</td>\n",
       "      <td>459.158702</td>\n",
       "    </tr>\n",
       "    <tr>\n",
       "      <th>2022-03-31 04:00:00+00:00</th>\n",
       "      <td>107.19</td>\n",
       "      <td>107.3800</td>\n",
       "      <td>107.060</td>\n",
       "      <td>107.10</td>\n",
       "      <td>13788220</td>\n",
       "      <td>44817</td>\n",
       "      <td>107.229272</td>\n",
       "      <td>457.92</td>\n",
       "      <td>458.760</td>\n",
       "      <td>451.160</td>\n",
       "      <td>452.11</td>\n",
       "      <td>118607132</td>\n",
       "      <td>751169</td>\n",
       "      <td>455.444107</td>\n",
       "    </tr>\n",
       "    <tr>\n",
       "      <th>2022-04-01 04:00:00+00:00</th>\n",
       "      <td>106.35</td>\n",
       "      <td>106.9500</td>\n",
       "      <td>106.250</td>\n",
       "      <td>106.75</td>\n",
       "      <td>11579091</td>\n",
       "      <td>40126</td>\n",
       "      <td>106.667931</td>\n",
       "      <td>453.30</td>\n",
       "      <td>453.460</td>\n",
       "      <td>449.140</td>\n",
       "      <td>452.92</td>\n",
       "      <td>88676014</td>\n",
       "      <td>624745</td>\n",
       "      <td>451.850848</td>\n",
       "    </tr>\n",
       "  </tbody>\n",
       "</table>\n",
       "<p>1260 rows × 14 columns</p>\n",
       "</div>"
      ],
      "text/plain": [
       "                              AGG                                       \\\n",
       "                             open      high      low   close    volume   \n",
       "timestamp                                                                \n",
       "2017-04-03 04:00:00+00:00  108.31  108.6800  108.300  108.67   5198006   \n",
       "2017-04-04 04:00:00+00:00  108.61  108.6500  108.520  108.57   1627492   \n",
       "2017-04-05 04:00:00+00:00  108.48  108.7400  108.453  108.69   2304074   \n",
       "2017-04-06 04:00:00+00:00  108.64  108.7100  108.480  108.68   1725301   \n",
       "2017-04-07 04:00:00+00:00  108.80  108.8900  108.420  108.44   1783599   \n",
       "...                           ...       ...      ...     ...       ...   \n",
       "2022-03-28 04:00:00+00:00  106.25  106.5252  106.160  106.36   8540551   \n",
       "2022-03-29 04:00:00+00:00  106.61  106.8900  106.455  106.86  11396549   \n",
       "2022-03-30 04:00:00+00:00  106.60  107.1500  106.590  107.15  11544378   \n",
       "2022-03-31 04:00:00+00:00  107.19  107.3800  107.060  107.10  13788220   \n",
       "2022-04-01 04:00:00+00:00  106.35  106.9500  106.250  106.75  11579091   \n",
       "\n",
       "                                                      SPY                    \\\n",
       "                          trade_count        vwap    open     high      low   \n",
       "timestamp                                                                     \n",
       "2017-04-03 04:00:00+00:00       15992  108.605513  235.79  236.030  233.910   \n",
       "2017-04-04 04:00:00+00:00        8325  108.591265  235.00  235.580  234.555   \n",
       "2017-04-05 04:00:00+00:00       11167  108.599103  236.26  237.390  234.540   \n",
       "2017-04-06 04:00:00+00:00        7746  108.588276  234.96  236.040  234.425   \n",
       "2017-04-07 04:00:00+00:00        8534  108.645684  235.18  236.000  234.640   \n",
       "...                               ...         ...     ...      ...      ...   \n",
       "2022-03-28 04:00:00+00:00       27246  106.295912  452.05  455.910  450.060   \n",
       "2022-03-29 04:00:00+00:00       33651  106.734051  460.07  462.070  457.180   \n",
       "2022-03-30 04:00:00+00:00       24975  107.007713  460.29  461.195  456.465   \n",
       "2022-03-31 04:00:00+00:00       44817  107.229272  457.92  458.760  451.160   \n",
       "2022-04-01 04:00:00+00:00       40126  106.667931  453.30  453.460  449.140   \n",
       "\n",
       "                                                                      \n",
       "                            close     volume trade_count        vwap  \n",
       "timestamp                                                             \n",
       "2017-04-03 04:00:00+00:00  235.33   85546486      278486  235.194832  \n",
       "2017-04-04 04:00:00+00:00  235.48   56466195      192579  235.237449  \n",
       "2017-04-05 04:00:00+00:00  234.78  108800604      363080  235.933657  \n",
       "2017-04-06 04:00:00+00:00  235.44   69135757      244996  235.287745  \n",
       "2017-04-07 04:00:00+00:00  235.20   74412311      235941  235.290964  \n",
       "...                           ...        ...         ...         ...  \n",
       "2022-03-28 04:00:00+00:00  455.84   68744767      624225  453.296491  \n",
       "2022-03-29 04:00:00+00:00  461.53   86682895      738526  459.632992  \n",
       "2022-03-30 04:00:00+00:00  458.79   79668682      659199  459.158702  \n",
       "2022-03-31 04:00:00+00:00  452.11  118607132      751169  455.444107  \n",
       "2022-04-01 04:00:00+00:00  452.92   88676014      624745  451.850848  \n",
       "\n",
       "[1260 rows x 14 columns]"
      ]
     },
     "execution_count": 228,
     "metadata": {},
     "output_type": "execute_result"
    }
   ],
   "source": [
    "# Concatenate the ticker DataFrames\n",
    "df_5years = pd.concat([AGG_5years, SPY_5years], axis=1, keys=[\"AGG\", \"SPY\"])\n",
    "df_5years"
   ]
  },
  {
   "cell_type": "code",
   "execution_count": 229,
   "id": "0d099adc-3b02-4d5d-bb88-c3482ed8d751",
   "metadata": {},
   "outputs": [],
   "source": [
    "# Configuring a Monte Carlo simulation to forecast 30 years cumulative returns"
   ]
  },
  {
   "cell_type": "code",
   "execution_count": 230,
   "id": "21067061-4ae5-4d40-9a39-67b520b23ae6",
   "metadata": {},
   "outputs": [],
   "source": [
    "MC_shares = MCSimulation(\n",
    "    portfolio_data = df_5years,\n",
    "    weights = [.40, .60],\n",
    "    num_simulation = 500,\n",
    "    num_trading_days = 252*30\n",
    ")"
   ]
  },
  {
   "cell_type": "code",
   "execution_count": 231,
   "id": "9b1588b6-de80-4e3e-a04d-d4354f21929f",
   "metadata": {},
   "outputs": [
    {
     "data": {
      "text/html": [
       "<div>\n",
       "<style scoped>\n",
       "    .dataframe tbody tr th:only-of-type {\n",
       "        vertical-align: middle;\n",
       "    }\n",
       "\n",
       "    .dataframe tbody tr th {\n",
       "        vertical-align: top;\n",
       "    }\n",
       "\n",
       "    .dataframe thead tr th {\n",
       "        text-align: left;\n",
       "    }\n",
       "\n",
       "    .dataframe thead tr:last-of-type th {\n",
       "        text-align: right;\n",
       "    }\n",
       "</style>\n",
       "<table border=\"1\" class=\"dataframe\">\n",
       "  <thead>\n",
       "    <tr>\n",
       "      <th></th>\n",
       "      <th colspan=\"8\" halign=\"left\">AGG</th>\n",
       "      <th colspan=\"8\" halign=\"left\">SPY</th>\n",
       "    </tr>\n",
       "    <tr>\n",
       "      <th></th>\n",
       "      <th>open</th>\n",
       "      <th>high</th>\n",
       "      <th>low</th>\n",
       "      <th>close</th>\n",
       "      <th>volume</th>\n",
       "      <th>trade_count</th>\n",
       "      <th>vwap</th>\n",
       "      <th>daily_return</th>\n",
       "      <th>open</th>\n",
       "      <th>high</th>\n",
       "      <th>low</th>\n",
       "      <th>close</th>\n",
       "      <th>volume</th>\n",
       "      <th>trade_count</th>\n",
       "      <th>vwap</th>\n",
       "      <th>daily_return</th>\n",
       "    </tr>\n",
       "    <tr>\n",
       "      <th>timestamp</th>\n",
       "      <th></th>\n",
       "      <th></th>\n",
       "      <th></th>\n",
       "      <th></th>\n",
       "      <th></th>\n",
       "      <th></th>\n",
       "      <th></th>\n",
       "      <th></th>\n",
       "      <th></th>\n",
       "      <th></th>\n",
       "      <th></th>\n",
       "      <th></th>\n",
       "      <th></th>\n",
       "      <th></th>\n",
       "      <th></th>\n",
       "      <th></th>\n",
       "    </tr>\n",
       "  </thead>\n",
       "  <tbody>\n",
       "    <tr>\n",
       "      <th>2017-04-03 04:00:00+00:00</th>\n",
       "      <td>108.31</td>\n",
       "      <td>108.6800</td>\n",
       "      <td>108.300</td>\n",
       "      <td>108.67</td>\n",
       "      <td>5198006</td>\n",
       "      <td>15992</td>\n",
       "      <td>108.605513</td>\n",
       "      <td>NaN</td>\n",
       "      <td>235.79</td>\n",
       "      <td>236.030</td>\n",
       "      <td>233.910</td>\n",
       "      <td>235.33</td>\n",
       "      <td>85546486</td>\n",
       "      <td>278486</td>\n",
       "      <td>235.194832</td>\n",
       "      <td>NaN</td>\n",
       "    </tr>\n",
       "    <tr>\n",
       "      <th>2017-04-04 04:00:00+00:00</th>\n",
       "      <td>108.61</td>\n",
       "      <td>108.6500</td>\n",
       "      <td>108.520</td>\n",
       "      <td>108.57</td>\n",
       "      <td>1627492</td>\n",
       "      <td>8325</td>\n",
       "      <td>108.591265</td>\n",
       "      <td>-0.000920</td>\n",
       "      <td>235.00</td>\n",
       "      <td>235.580</td>\n",
       "      <td>234.555</td>\n",
       "      <td>235.48</td>\n",
       "      <td>56466195</td>\n",
       "      <td>192579</td>\n",
       "      <td>235.237449</td>\n",
       "      <td>0.000637</td>\n",
       "    </tr>\n",
       "    <tr>\n",
       "      <th>2017-04-05 04:00:00+00:00</th>\n",
       "      <td>108.48</td>\n",
       "      <td>108.7400</td>\n",
       "      <td>108.453</td>\n",
       "      <td>108.69</td>\n",
       "      <td>2304074</td>\n",
       "      <td>11167</td>\n",
       "      <td>108.599103</td>\n",
       "      <td>0.001105</td>\n",
       "      <td>236.26</td>\n",
       "      <td>237.390</td>\n",
       "      <td>234.540</td>\n",
       "      <td>234.78</td>\n",
       "      <td>108800604</td>\n",
       "      <td>363080</td>\n",
       "      <td>235.933657</td>\n",
       "      <td>-0.002973</td>\n",
       "    </tr>\n",
       "    <tr>\n",
       "      <th>2017-04-06 04:00:00+00:00</th>\n",
       "      <td>108.64</td>\n",
       "      <td>108.7100</td>\n",
       "      <td>108.480</td>\n",
       "      <td>108.68</td>\n",
       "      <td>1725301</td>\n",
       "      <td>7746</td>\n",
       "      <td>108.588276</td>\n",
       "      <td>-0.000092</td>\n",
       "      <td>234.96</td>\n",
       "      <td>236.040</td>\n",
       "      <td>234.425</td>\n",
       "      <td>235.44</td>\n",
       "      <td>69135757</td>\n",
       "      <td>244996</td>\n",
       "      <td>235.287745</td>\n",
       "      <td>0.002811</td>\n",
       "    </tr>\n",
       "    <tr>\n",
       "      <th>2017-04-07 04:00:00+00:00</th>\n",
       "      <td>108.80</td>\n",
       "      <td>108.8900</td>\n",
       "      <td>108.420</td>\n",
       "      <td>108.44</td>\n",
       "      <td>1783599</td>\n",
       "      <td>8534</td>\n",
       "      <td>108.645684</td>\n",
       "      <td>-0.002208</td>\n",
       "      <td>235.18</td>\n",
       "      <td>236.000</td>\n",
       "      <td>234.640</td>\n",
       "      <td>235.20</td>\n",
       "      <td>74412311</td>\n",
       "      <td>235941</td>\n",
       "      <td>235.290964</td>\n",
       "      <td>-0.001019</td>\n",
       "    </tr>\n",
       "    <tr>\n",
       "      <th>...</th>\n",
       "      <td>...</td>\n",
       "      <td>...</td>\n",
       "      <td>...</td>\n",
       "      <td>...</td>\n",
       "      <td>...</td>\n",
       "      <td>...</td>\n",
       "      <td>...</td>\n",
       "      <td>...</td>\n",
       "      <td>...</td>\n",
       "      <td>...</td>\n",
       "      <td>...</td>\n",
       "      <td>...</td>\n",
       "      <td>...</td>\n",
       "      <td>...</td>\n",
       "      <td>...</td>\n",
       "      <td>...</td>\n",
       "    </tr>\n",
       "    <tr>\n",
       "      <th>2022-03-28 04:00:00+00:00</th>\n",
       "      <td>106.25</td>\n",
       "      <td>106.5252</td>\n",
       "      <td>106.160</td>\n",
       "      <td>106.36</td>\n",
       "      <td>8540551</td>\n",
       "      <td>27246</td>\n",
       "      <td>106.295912</td>\n",
       "      <td>0.002451</td>\n",
       "      <td>452.05</td>\n",
       "      <td>455.910</td>\n",
       "      <td>450.060</td>\n",
       "      <td>455.84</td>\n",
       "      <td>68744767</td>\n",
       "      <td>624225</td>\n",
       "      <td>453.296491</td>\n",
       "      <td>0.006958</td>\n",
       "    </tr>\n",
       "    <tr>\n",
       "      <th>2022-03-29 04:00:00+00:00</th>\n",
       "      <td>106.61</td>\n",
       "      <td>106.8900</td>\n",
       "      <td>106.455</td>\n",
       "      <td>106.86</td>\n",
       "      <td>11396549</td>\n",
       "      <td>33651</td>\n",
       "      <td>106.734051</td>\n",
       "      <td>0.004701</td>\n",
       "      <td>460.07</td>\n",
       "      <td>462.070</td>\n",
       "      <td>457.180</td>\n",
       "      <td>461.53</td>\n",
       "      <td>86682895</td>\n",
       "      <td>738526</td>\n",
       "      <td>459.632992</td>\n",
       "      <td>0.012482</td>\n",
       "    </tr>\n",
       "    <tr>\n",
       "      <th>2022-03-30 04:00:00+00:00</th>\n",
       "      <td>106.60</td>\n",
       "      <td>107.1500</td>\n",
       "      <td>106.590</td>\n",
       "      <td>107.15</td>\n",
       "      <td>11544378</td>\n",
       "      <td>24975</td>\n",
       "      <td>107.007713</td>\n",
       "      <td>0.002714</td>\n",
       "      <td>460.29</td>\n",
       "      <td>461.195</td>\n",
       "      <td>456.465</td>\n",
       "      <td>458.79</td>\n",
       "      <td>79668682</td>\n",
       "      <td>659199</td>\n",
       "      <td>459.158702</td>\n",
       "      <td>-0.005937</td>\n",
       "    </tr>\n",
       "    <tr>\n",
       "      <th>2022-03-31 04:00:00+00:00</th>\n",
       "      <td>107.19</td>\n",
       "      <td>107.3800</td>\n",
       "      <td>107.060</td>\n",
       "      <td>107.10</td>\n",
       "      <td>13788220</td>\n",
       "      <td>44817</td>\n",
       "      <td>107.229272</td>\n",
       "      <td>-0.000467</td>\n",
       "      <td>457.92</td>\n",
       "      <td>458.760</td>\n",
       "      <td>451.160</td>\n",
       "      <td>452.11</td>\n",
       "      <td>118607132</td>\n",
       "      <td>751169</td>\n",
       "      <td>455.444107</td>\n",
       "      <td>-0.014560</td>\n",
       "    </tr>\n",
       "    <tr>\n",
       "      <th>2022-04-01 04:00:00+00:00</th>\n",
       "      <td>106.35</td>\n",
       "      <td>106.9500</td>\n",
       "      <td>106.250</td>\n",
       "      <td>106.75</td>\n",
       "      <td>11579091</td>\n",
       "      <td>40126</td>\n",
       "      <td>106.667931</td>\n",
       "      <td>-0.003268</td>\n",
       "      <td>453.30</td>\n",
       "      <td>453.460</td>\n",
       "      <td>449.140</td>\n",
       "      <td>452.92</td>\n",
       "      <td>88676014</td>\n",
       "      <td>624745</td>\n",
       "      <td>451.850848</td>\n",
       "      <td>0.001792</td>\n",
       "    </tr>\n",
       "  </tbody>\n",
       "</table>\n",
       "<p>1260 rows × 16 columns</p>\n",
       "</div>"
      ],
      "text/plain": [
       "                              AGG                                       \\\n",
       "                             open      high      low   close    volume   \n",
       "timestamp                                                                \n",
       "2017-04-03 04:00:00+00:00  108.31  108.6800  108.300  108.67   5198006   \n",
       "2017-04-04 04:00:00+00:00  108.61  108.6500  108.520  108.57   1627492   \n",
       "2017-04-05 04:00:00+00:00  108.48  108.7400  108.453  108.69   2304074   \n",
       "2017-04-06 04:00:00+00:00  108.64  108.7100  108.480  108.68   1725301   \n",
       "2017-04-07 04:00:00+00:00  108.80  108.8900  108.420  108.44   1783599   \n",
       "...                           ...       ...      ...     ...       ...   \n",
       "2022-03-28 04:00:00+00:00  106.25  106.5252  106.160  106.36   8540551   \n",
       "2022-03-29 04:00:00+00:00  106.61  106.8900  106.455  106.86  11396549   \n",
       "2022-03-30 04:00:00+00:00  106.60  107.1500  106.590  107.15  11544378   \n",
       "2022-03-31 04:00:00+00:00  107.19  107.3800  107.060  107.10  13788220   \n",
       "2022-04-01 04:00:00+00:00  106.35  106.9500  106.250  106.75  11579091   \n",
       "\n",
       "                                                                   SPY  \\\n",
       "                          trade_count        vwap daily_return    open   \n",
       "timestamp                                                                \n",
       "2017-04-03 04:00:00+00:00       15992  108.605513          NaN  235.79   \n",
       "2017-04-04 04:00:00+00:00        8325  108.591265    -0.000920  235.00   \n",
       "2017-04-05 04:00:00+00:00       11167  108.599103     0.001105  236.26   \n",
       "2017-04-06 04:00:00+00:00        7746  108.588276    -0.000092  234.96   \n",
       "2017-04-07 04:00:00+00:00        8534  108.645684    -0.002208  235.18   \n",
       "...                               ...         ...          ...     ...   \n",
       "2022-03-28 04:00:00+00:00       27246  106.295912     0.002451  452.05   \n",
       "2022-03-29 04:00:00+00:00       33651  106.734051     0.004701  460.07   \n",
       "2022-03-30 04:00:00+00:00       24975  107.007713     0.002714  460.29   \n",
       "2022-03-31 04:00:00+00:00       44817  107.229272    -0.000467  457.92   \n",
       "2022-04-01 04:00:00+00:00       40126  106.667931    -0.003268  453.30   \n",
       "\n",
       "                                                                            \\\n",
       "                              high      low   close     volume trade_count   \n",
       "timestamp                                                                    \n",
       "2017-04-03 04:00:00+00:00  236.030  233.910  235.33   85546486      278486   \n",
       "2017-04-04 04:00:00+00:00  235.580  234.555  235.48   56466195      192579   \n",
       "2017-04-05 04:00:00+00:00  237.390  234.540  234.78  108800604      363080   \n",
       "2017-04-06 04:00:00+00:00  236.040  234.425  235.44   69135757      244996   \n",
       "2017-04-07 04:00:00+00:00  236.000  234.640  235.20   74412311      235941   \n",
       "...                            ...      ...     ...        ...         ...   \n",
       "2022-03-28 04:00:00+00:00  455.910  450.060  455.84   68744767      624225   \n",
       "2022-03-29 04:00:00+00:00  462.070  457.180  461.53   86682895      738526   \n",
       "2022-03-30 04:00:00+00:00  461.195  456.465  458.79   79668682      659199   \n",
       "2022-03-31 04:00:00+00:00  458.760  451.160  452.11  118607132      751169   \n",
       "2022-04-01 04:00:00+00:00  453.460  449.140  452.92   88676014      624745   \n",
       "\n",
       "                                                    \n",
       "                                 vwap daily_return  \n",
       "timestamp                                           \n",
       "2017-04-03 04:00:00+00:00  235.194832          NaN  \n",
       "2017-04-04 04:00:00+00:00  235.237449     0.000637  \n",
       "2017-04-05 04:00:00+00:00  235.933657    -0.002973  \n",
       "2017-04-06 04:00:00+00:00  235.287745     0.002811  \n",
       "2017-04-07 04:00:00+00:00  235.290964    -0.001019  \n",
       "...                               ...          ...  \n",
       "2022-03-28 04:00:00+00:00  453.296491     0.006958  \n",
       "2022-03-29 04:00:00+00:00  459.632992     0.012482  \n",
       "2022-03-30 04:00:00+00:00  459.158702    -0.005937  \n",
       "2022-03-31 04:00:00+00:00  455.444107    -0.014560  \n",
       "2022-04-01 04:00:00+00:00  451.850848     0.001792  \n",
       "\n",
       "[1260 rows x 16 columns]"
      ]
     },
     "execution_count": 231,
     "metadata": {},
     "output_type": "execute_result"
    }
   ],
   "source": [
    "# Printing the simulation input data\n",
    "MC_shares.portfolio_data"
   ]
  },
  {
   "cell_type": "code",
   "execution_count": 232,
   "id": "95665e67-3fbe-4571-b89e-b06f979e4898",
   "metadata": {},
   "outputs": [
    {
     "name": "stdout",
     "output_type": "stream",
     "text": [
      "Running Monte Carlo simulation number 0.\n",
      "Running Monte Carlo simulation number 10.\n",
      "Running Monte Carlo simulation number 20.\n",
      "Running Monte Carlo simulation number 30.\n",
      "Running Monte Carlo simulation number 40.\n",
      "Running Monte Carlo simulation number 50.\n",
      "Running Monte Carlo simulation number 60.\n",
      "Running Monte Carlo simulation number 70.\n",
      "Running Monte Carlo simulation number 80.\n",
      "Running Monte Carlo simulation number 90.\n",
      "Running Monte Carlo simulation number 100.\n"
     ]
    },
    {
     "name": "stderr",
     "output_type": "stream",
     "text": [
      "/Users/acashfernando/Desktop/MCForecastTools.py:117: PerformanceWarning: DataFrame is highly fragmented.  This is usually the result of calling `frame.insert` many times, which has poor performance.  Consider joining all columns at once using pd.concat(axis=1) instead.  To get a de-fragmented frame, use `newframe = frame.copy()`\n",
      "  portfolio_cumulative_returns[n] = (1 + sim_df.fillna(0)).cumprod()\n"
     ]
    },
    {
     "name": "stdout",
     "output_type": "stream",
     "text": [
      "Running Monte Carlo simulation number 110.\n",
      "Running Monte Carlo simulation number 120.\n",
      "Running Monte Carlo simulation number 130.\n",
      "Running Monte Carlo simulation number 140.\n",
      "Running Monte Carlo simulation number 150.\n",
      "Running Monte Carlo simulation number 160.\n",
      "Running Monte Carlo simulation number 170.\n",
      "Running Monte Carlo simulation number 180.\n",
      "Running Monte Carlo simulation number 190.\n",
      "Running Monte Carlo simulation number 200.\n",
      "Running Monte Carlo simulation number 210.\n",
      "Running Monte Carlo simulation number 220.\n",
      "Running Monte Carlo simulation number 230.\n",
      "Running Monte Carlo simulation number 240.\n",
      "Running Monte Carlo simulation number 250.\n",
      "Running Monte Carlo simulation number 260.\n",
      "Running Monte Carlo simulation number 270.\n",
      "Running Monte Carlo simulation number 280.\n",
      "Running Monte Carlo simulation number 290.\n",
      "Running Monte Carlo simulation number 300.\n",
      "Running Monte Carlo simulation number 310.\n",
      "Running Monte Carlo simulation number 320.\n",
      "Running Monte Carlo simulation number 330.\n",
      "Running Monte Carlo simulation number 340.\n",
      "Running Monte Carlo simulation number 350.\n",
      "Running Monte Carlo simulation number 360.\n",
      "Running Monte Carlo simulation number 370.\n",
      "Running Monte Carlo simulation number 380.\n",
      "Running Monte Carlo simulation number 390.\n",
      "Running Monte Carlo simulation number 400.\n",
      "Running Monte Carlo simulation number 410.\n",
      "Running Monte Carlo simulation number 420.\n",
      "Running Monte Carlo simulation number 430.\n",
      "Running Monte Carlo simulation number 440.\n",
      "Running Monte Carlo simulation number 450.\n",
      "Running Monte Carlo simulation number 460.\n",
      "Running Monte Carlo simulation number 470.\n",
      "Running Monte Carlo simulation number 480.\n",
      "Running Monte Carlo simulation number 490.\n"
     ]
    },
    {
     "data": {
      "text/html": [
       "<div>\n",
       "<style scoped>\n",
       "    .dataframe tbody tr th:only-of-type {\n",
       "        vertical-align: middle;\n",
       "    }\n",
       "\n",
       "    .dataframe tbody tr th {\n",
       "        vertical-align: top;\n",
       "    }\n",
       "\n",
       "    .dataframe thead th {\n",
       "        text-align: right;\n",
       "    }\n",
       "</style>\n",
       "<table border=\"1\" class=\"dataframe\">\n",
       "  <thead>\n",
       "    <tr style=\"text-align: right;\">\n",
       "      <th></th>\n",
       "      <th>0</th>\n",
       "      <th>1</th>\n",
       "      <th>2</th>\n",
       "      <th>3</th>\n",
       "      <th>4</th>\n",
       "      <th>5</th>\n",
       "      <th>6</th>\n",
       "      <th>7</th>\n",
       "      <th>8</th>\n",
       "      <th>9</th>\n",
       "      <th>...</th>\n",
       "      <th>490</th>\n",
       "      <th>491</th>\n",
       "      <th>492</th>\n",
       "      <th>493</th>\n",
       "      <th>494</th>\n",
       "      <th>495</th>\n",
       "      <th>496</th>\n",
       "      <th>497</th>\n",
       "      <th>498</th>\n",
       "      <th>499</th>\n",
       "    </tr>\n",
       "  </thead>\n",
       "  <tbody>\n",
       "    <tr>\n",
       "      <th>0</th>\n",
       "      <td>1.000000</td>\n",
       "      <td>1.000000</td>\n",
       "      <td>1.000000</td>\n",
       "      <td>1.000000</td>\n",
       "      <td>1.000000</td>\n",
       "      <td>1.000000</td>\n",
       "      <td>1.000000</td>\n",
       "      <td>1.000000</td>\n",
       "      <td>1.000000</td>\n",
       "      <td>1.000000</td>\n",
       "      <td>...</td>\n",
       "      <td>1.000000</td>\n",
       "      <td>1.000000</td>\n",
       "      <td>1.000000</td>\n",
       "      <td>1.000000</td>\n",
       "      <td>1.000000</td>\n",
       "      <td>1.000000</td>\n",
       "      <td>1.000000</td>\n",
       "      <td>1.000000</td>\n",
       "      <td>1.000000</td>\n",
       "      <td>1.000000</td>\n",
       "    </tr>\n",
       "    <tr>\n",
       "      <th>1</th>\n",
       "      <td>1.003190</td>\n",
       "      <td>1.003957</td>\n",
       "      <td>0.996105</td>\n",
       "      <td>0.999068</td>\n",
       "      <td>0.998803</td>\n",
       "      <td>1.002238</td>\n",
       "      <td>1.004176</td>\n",
       "      <td>1.005532</td>\n",
       "      <td>0.979413</td>\n",
       "      <td>0.995607</td>\n",
       "      <td>...</td>\n",
       "      <td>1.007997</td>\n",
       "      <td>1.000980</td>\n",
       "      <td>1.012627</td>\n",
       "      <td>1.005487</td>\n",
       "      <td>1.009656</td>\n",
       "      <td>0.989001</td>\n",
       "      <td>0.993889</td>\n",
       "      <td>1.007118</td>\n",
       "      <td>1.005795</td>\n",
       "      <td>1.011014</td>\n",
       "    </tr>\n",
       "    <tr>\n",
       "      <th>2</th>\n",
       "      <td>1.002218</td>\n",
       "      <td>1.011004</td>\n",
       "      <td>0.992965</td>\n",
       "      <td>1.002286</td>\n",
       "      <td>1.001545</td>\n",
       "      <td>1.005064</td>\n",
       "      <td>1.011216</td>\n",
       "      <td>1.009831</td>\n",
       "      <td>0.985238</td>\n",
       "      <td>0.996200</td>\n",
       "      <td>...</td>\n",
       "      <td>0.997887</td>\n",
       "      <td>1.013375</td>\n",
       "      <td>1.011237</td>\n",
       "      <td>1.006182</td>\n",
       "      <td>1.005783</td>\n",
       "      <td>0.984554</td>\n",
       "      <td>0.992623</td>\n",
       "      <td>1.007417</td>\n",
       "      <td>1.015855</td>\n",
       "      <td>1.001755</td>\n",
       "    </tr>\n",
       "    <tr>\n",
       "      <th>3</th>\n",
       "      <td>0.998390</td>\n",
       "      <td>1.002283</td>\n",
       "      <td>0.991134</td>\n",
       "      <td>0.987538</td>\n",
       "      <td>1.017824</td>\n",
       "      <td>1.009509</td>\n",
       "      <td>1.007866</td>\n",
       "      <td>1.008961</td>\n",
       "      <td>0.985956</td>\n",
       "      <td>1.001283</td>\n",
       "      <td>...</td>\n",
       "      <td>1.007019</td>\n",
       "      <td>0.994888</td>\n",
       "      <td>1.017403</td>\n",
       "      <td>1.015096</td>\n",
       "      <td>0.997064</td>\n",
       "      <td>0.987851</td>\n",
       "      <td>0.994211</td>\n",
       "      <td>1.000527</td>\n",
       "      <td>1.000278</td>\n",
       "      <td>1.003417</td>\n",
       "    </tr>\n",
       "    <tr>\n",
       "      <th>4</th>\n",
       "      <td>0.988666</td>\n",
       "      <td>1.007188</td>\n",
       "      <td>0.984461</td>\n",
       "      <td>0.983460</td>\n",
       "      <td>1.020318</td>\n",
       "      <td>1.015082</td>\n",
       "      <td>1.011781</td>\n",
       "      <td>1.001750</td>\n",
       "      <td>0.974007</td>\n",
       "      <td>1.006668</td>\n",
       "      <td>...</td>\n",
       "      <td>1.002129</td>\n",
       "      <td>0.994068</td>\n",
       "      <td>1.016745</td>\n",
       "      <td>1.017424</td>\n",
       "      <td>1.005842</td>\n",
       "      <td>0.985873</td>\n",
       "      <td>0.992919</td>\n",
       "      <td>1.005381</td>\n",
       "      <td>0.996769</td>\n",
       "      <td>0.998985</td>\n",
       "    </tr>\n",
       "    <tr>\n",
       "      <th>...</th>\n",
       "      <td>...</td>\n",
       "      <td>...</td>\n",
       "      <td>...</td>\n",
       "      <td>...</td>\n",
       "      <td>...</td>\n",
       "      <td>...</td>\n",
       "      <td>...</td>\n",
       "      <td>...</td>\n",
       "      <td>...</td>\n",
       "      <td>...</td>\n",
       "      <td>...</td>\n",
       "      <td>...</td>\n",
       "      <td>...</td>\n",
       "      <td>...</td>\n",
       "      <td>...</td>\n",
       "      <td>...</td>\n",
       "      <td>...</td>\n",
       "      <td>...</td>\n",
       "      <td>...</td>\n",
       "      <td>...</td>\n",
       "      <td>...</td>\n",
       "    </tr>\n",
       "    <tr>\n",
       "      <th>7556</th>\n",
       "      <td>11.978497</td>\n",
       "      <td>55.785624</td>\n",
       "      <td>17.399346</td>\n",
       "      <td>7.940004</td>\n",
       "      <td>38.120671</td>\n",
       "      <td>30.120819</td>\n",
       "      <td>7.780983</td>\n",
       "      <td>10.246900</td>\n",
       "      <td>21.456929</td>\n",
       "      <td>8.728024</td>\n",
       "      <td>...</td>\n",
       "      <td>6.985880</td>\n",
       "      <td>14.899611</td>\n",
       "      <td>43.220276</td>\n",
       "      <td>7.590930</td>\n",
       "      <td>3.419264</td>\n",
       "      <td>11.526523</td>\n",
       "      <td>19.203731</td>\n",
       "      <td>16.706327</td>\n",
       "      <td>4.842190</td>\n",
       "      <td>8.089013</td>\n",
       "    </tr>\n",
       "    <tr>\n",
       "      <th>7557</th>\n",
       "      <td>12.003408</td>\n",
       "      <td>55.331919</td>\n",
       "      <td>17.474289</td>\n",
       "      <td>7.841469</td>\n",
       "      <td>37.872863</td>\n",
       "      <td>30.255681</td>\n",
       "      <td>7.746692</td>\n",
       "      <td>10.260786</td>\n",
       "      <td>21.546692</td>\n",
       "      <td>8.691133</td>\n",
       "      <td>...</td>\n",
       "      <td>6.993500</td>\n",
       "      <td>15.025506</td>\n",
       "      <td>43.444919</td>\n",
       "      <td>7.630957</td>\n",
       "      <td>3.413084</td>\n",
       "      <td>11.520087</td>\n",
       "      <td>19.044836</td>\n",
       "      <td>16.802993</td>\n",
       "      <td>4.873829</td>\n",
       "      <td>8.026237</td>\n",
       "    </tr>\n",
       "    <tr>\n",
       "      <th>7558</th>\n",
       "      <td>11.996841</td>\n",
       "      <td>55.443302</td>\n",
       "      <td>17.312128</td>\n",
       "      <td>7.811273</td>\n",
       "      <td>38.098046</td>\n",
       "      <td>29.926756</td>\n",
       "      <td>7.753970</td>\n",
       "      <td>10.373010</td>\n",
       "      <td>21.320560</td>\n",
       "      <td>8.770461</td>\n",
       "      <td>...</td>\n",
       "      <td>6.989728</td>\n",
       "      <td>14.906456</td>\n",
       "      <td>43.895079</td>\n",
       "      <td>7.629111</td>\n",
       "      <td>3.412281</td>\n",
       "      <td>11.491938</td>\n",
       "      <td>19.001672</td>\n",
       "      <td>16.805029</td>\n",
       "      <td>4.874900</td>\n",
       "      <td>8.141148</td>\n",
       "    </tr>\n",
       "    <tr>\n",
       "      <th>7559</th>\n",
       "      <td>12.042965</td>\n",
       "      <td>55.183906</td>\n",
       "      <td>17.235663</td>\n",
       "      <td>7.870694</td>\n",
       "      <td>38.188617</td>\n",
       "      <td>30.357024</td>\n",
       "      <td>7.735695</td>\n",
       "      <td>10.344286</td>\n",
       "      <td>21.350731</td>\n",
       "      <td>8.804421</td>\n",
       "      <td>...</td>\n",
       "      <td>7.015101</td>\n",
       "      <td>15.008817</td>\n",
       "      <td>44.092542</td>\n",
       "      <td>7.572966</td>\n",
       "      <td>3.443038</td>\n",
       "      <td>11.584705</td>\n",
       "      <td>19.201469</td>\n",
       "      <td>16.627422</td>\n",
       "      <td>4.921153</td>\n",
       "      <td>8.206441</td>\n",
       "    </tr>\n",
       "    <tr>\n",
       "      <th>7560</th>\n",
       "      <td>11.876208</td>\n",
       "      <td>55.429346</td>\n",
       "      <td>17.036395</td>\n",
       "      <td>7.911718</td>\n",
       "      <td>38.076330</td>\n",
       "      <td>30.488809</td>\n",
       "      <td>7.653909</td>\n",
       "      <td>10.375368</td>\n",
       "      <td>21.359310</td>\n",
       "      <td>8.783839</td>\n",
       "      <td>...</td>\n",
       "      <td>7.051227</td>\n",
       "      <td>14.704232</td>\n",
       "      <td>44.152460</td>\n",
       "      <td>7.581912</td>\n",
       "      <td>3.393328</td>\n",
       "      <td>11.732275</td>\n",
       "      <td>19.443276</td>\n",
       "      <td>16.689575</td>\n",
       "      <td>4.940826</td>\n",
       "      <td>8.186218</td>\n",
       "    </tr>\n",
       "  </tbody>\n",
       "</table>\n",
       "<p>7561 rows × 500 columns</p>\n",
       "</div>"
      ],
      "text/plain": [
       "            0          1          2         3          4          5    \\\n",
       "0      1.000000   1.000000   1.000000  1.000000   1.000000   1.000000   \n",
       "1      1.003190   1.003957   0.996105  0.999068   0.998803   1.002238   \n",
       "2      1.002218   1.011004   0.992965  1.002286   1.001545   1.005064   \n",
       "3      0.998390   1.002283   0.991134  0.987538   1.017824   1.009509   \n",
       "4      0.988666   1.007188   0.984461  0.983460   1.020318   1.015082   \n",
       "...         ...        ...        ...       ...        ...        ...   \n",
       "7556  11.978497  55.785624  17.399346  7.940004  38.120671  30.120819   \n",
       "7557  12.003408  55.331919  17.474289  7.841469  37.872863  30.255681   \n",
       "7558  11.996841  55.443302  17.312128  7.811273  38.098046  29.926756   \n",
       "7559  12.042965  55.183906  17.235663  7.870694  38.188617  30.357024   \n",
       "7560  11.876208  55.429346  17.036395  7.911718  38.076330  30.488809   \n",
       "\n",
       "           6          7          8         9    ...       490        491  \\\n",
       "0     1.000000   1.000000   1.000000  1.000000  ...  1.000000   1.000000   \n",
       "1     1.004176   1.005532   0.979413  0.995607  ...  1.007997   1.000980   \n",
       "2     1.011216   1.009831   0.985238  0.996200  ...  0.997887   1.013375   \n",
       "3     1.007866   1.008961   0.985956  1.001283  ...  1.007019   0.994888   \n",
       "4     1.011781   1.001750   0.974007  1.006668  ...  1.002129   0.994068   \n",
       "...        ...        ...        ...       ...  ...       ...        ...   \n",
       "7556  7.780983  10.246900  21.456929  8.728024  ...  6.985880  14.899611   \n",
       "7557  7.746692  10.260786  21.546692  8.691133  ...  6.993500  15.025506   \n",
       "7558  7.753970  10.373010  21.320560  8.770461  ...  6.989728  14.906456   \n",
       "7559  7.735695  10.344286  21.350731  8.804421  ...  7.015101  15.008817   \n",
       "7560  7.653909  10.375368  21.359310  8.783839  ...  7.051227  14.704232   \n",
       "\n",
       "            492       493       494        495        496        497  \\\n",
       "0      1.000000  1.000000  1.000000   1.000000   1.000000   1.000000   \n",
       "1      1.012627  1.005487  1.009656   0.989001   0.993889   1.007118   \n",
       "2      1.011237  1.006182  1.005783   0.984554   0.992623   1.007417   \n",
       "3      1.017403  1.015096  0.997064   0.987851   0.994211   1.000527   \n",
       "4      1.016745  1.017424  1.005842   0.985873   0.992919   1.005381   \n",
       "...         ...       ...       ...        ...        ...        ...   \n",
       "7556  43.220276  7.590930  3.419264  11.526523  19.203731  16.706327   \n",
       "7557  43.444919  7.630957  3.413084  11.520087  19.044836  16.802993   \n",
       "7558  43.895079  7.629111  3.412281  11.491938  19.001672  16.805029   \n",
       "7559  44.092542  7.572966  3.443038  11.584705  19.201469  16.627422   \n",
       "7560  44.152460  7.581912  3.393328  11.732275  19.443276  16.689575   \n",
       "\n",
       "           498       499  \n",
       "0     1.000000  1.000000  \n",
       "1     1.005795  1.011014  \n",
       "2     1.015855  1.001755  \n",
       "3     1.000278  1.003417  \n",
       "4     0.996769  0.998985  \n",
       "...        ...       ...  \n",
       "7556  4.842190  8.089013  \n",
       "7557  4.873829  8.026237  \n",
       "7558  4.874900  8.141148  \n",
       "7559  4.921153  8.206441  \n",
       "7560  4.940826  8.186218  \n",
       "\n",
       "[7561 rows x 500 columns]"
      ]
     },
     "execution_count": 232,
     "metadata": {},
     "output_type": "execute_result"
    }
   ],
   "source": [
    "# Running a Monte Carlo simulation to forecast 30 years cumulative returns\n",
    "MC_shares.calc_cumulative_return()"
   ]
  },
  {
   "cell_type": "code",
   "execution_count": 233,
   "id": "09bf37b9-5570-43e1-abcb-82075677ad89",
   "metadata": {},
   "outputs": [
    {
     "data": {
      "text/plain": [
       "<AxesSubplot:title={'center':'500 Simulations of Cumulative Portfolio Return Trajectories Over the Next 7560 Trading Days.'}>"
      ]
     },
     "execution_count": 233,
     "metadata": {},
     "output_type": "execute_result"
    },
    {
     "data": {
      "image/png": "[encoded data removed]",
      "text/plain": [
       "<Figure size 432x288 with 1 Axes>"
      ]
     },
     "metadata": {
      "needs_background": "light"
     },
     "output_type": "display_data"
    }
   ],
   "source": [
    "# Plot simulation outcomes\n",
    "MC_shares.plot_simulation()"
   ]
  },
  {
   "cell_type": "code",
   "execution_count": 234,
   "id": "70efddcf-e983-41d7-8c23-3076aa4f40a3",
   "metadata": {},
   "outputs": [
    {
     "data": {
      "text/plain": [
       "<AxesSubplot:title={'center':'Distribution of Final Cumuluative Returns Across All 500 Simulations'}, ylabel='Frequency'>"
      ]
     },
     "execution_count": 234,
     "metadata": {},
     "output_type": "execute_result"
    },
    {
     "data": {
      "image/png": "[encoded data removed]",
      "text/plain": [
       "<Figure size 432x288 with 1 Axes>"
      ]
     },
     "metadata": {
      "needs_background": "light"
     },
     "output_type": "display_data"
    }
   ],
   "source": [
    "# Plot probability distribution and confidence intervals\n",
    "MC_shares.plot_distribution()"
   ]
  },
  {
   "cell_type": "code",
   "execution_count": 235,
   "id": "2d198b77-83aa-4644-b3a9-491861e87008",
   "metadata": {},
   "outputs": [],
   "source": [
    "# Fetch summary statistics from the Monte Carlo simulation results\n",
    "shares_tbl = MC_shares.summarize_cumulative_return()"
   ]
  },
  {
   "cell_type": "code",
   "execution_count": 236,
   "id": "04552db5-6bea-417f-97c1-ef687ae63095",
   "metadata": {},
   "outputs": [
    {
     "name": "stdout",
     "output_type": "stream",
     "text": [
      "count           500.000000\n",
      "mean             14.541580\n",
      "std              10.592338\n",
      "min               1.751894\n",
      "25%               7.573736\n",
      "50%              11.779119\n",
      "75%              17.755757\n",
      "max              88.875343\n",
      "95% CI Lower      3.411999\n",
      "95% CI Upper     40.058577\n",
      "Name: 7560, dtype: float64\n"
     ]
    }
   ],
   "source": [
    "# Print summary statistics\n",
    "print(shares_tbl)"
   ]
  },
  {
   "cell_type": "code",
   "execution_count": 237,
   "id": "028560c8-87fd-46bc-bb3a-a757e6cb4254",
   "metadata": {},
   "outputs": [],
   "source": [
    "#Calculate the expected portfolio return at the 95% lower and upper confidence intervals based on a $20,000 initial investment."
   ]
  },
  {
   "cell_type": "code",
   "execution_count": 238,
   "id": "4fadd6e2-f756-4bd8-a009-30a2f8cf085f",
   "metadata": {},
   "outputs": [],
   "source": [
    "# Set initial investment\n",
    "initial_investment = 20000"
   ]
  },
  {
   "cell_type": "code",
   "execution_count": 239,
   "id": "fe4937de-8e2b-4c8e-8e13-4f0f563528fe",
   "metadata": {},
   "outputs": [],
   "source": [
    "# Use the lower and upper `95%` confidence intervals to calculate the range of the possible outcomes of our $20,000\n",
    "ci_lower = round(shares_tbl[8]*20000,2)\n",
    "ci_upper = round(shares_tbl[9]*20000,2)"
   ]
  },
  {
   "cell_type": "code",
   "execution_count": 240,
   "id": "e4f238c7-8961-4ed6-8b2f-2a4542ac29b8",
   "metadata": {},
   "outputs": [
    {
     "name": "stdout",
     "output_type": "stream",
     "text": [
      "There is a 95% chance that an initial investment of $20000 in the portfolio over the next 30 years will end within in the range of $68239.99 and $801171.53\n"
     ]
    }
   ],
   "source": [
    "# Print results\n",
    "print(f\"There is a 95% chance that an initial investment of ${initial_investment} in the portfolio\"\n",
    "      f\" over the next 30 years will end within in the range of\"\n",
    "      f\" ${ci_lower} and ${ci_upper}\")"
   ]
  },
  {
   "cell_type": "code",
   "execution_count": 241,
   "id": "4a5ece01-6f10-4c7a-9b92-0176efe7a972",
   "metadata": {},
   "outputs": [],
   "source": [
    "#Calculate the expected portfolio return at the 95% lower and upper confidence intervals based on a 50% increase in the initial investment."
   ]
  },
  {
   "cell_type": "code",
   "execution_count": 242,
   "id": "d5fe6617-508f-485b-8b51-dbd5957d60bd",
   "metadata": {},
   "outputs": [
    {
     "data": {
      "text/plain": [
       "30000.0"
      ]
     },
     "execution_count": 242,
     "metadata": {},
     "output_type": "execute_result"
    }
   ],
   "source": [
    "initial_investment2 = initial_investment * 1.5\n",
    "initial_investment2"
   ]
  },
  {
   "cell_type": "code",
   "execution_count": 243,
   "id": "7353c3be-79ea-4f2c-841e-d3e5bd5ab0f1",
   "metadata": {},
   "outputs": [],
   "source": [
    "# Use the lower and upper `95%` confidence intervals to calculate the range of the possible outcomes of our $30,000\n",
    "ci_lower2 = round(shares_tbl[8]*30000,2)\n",
    "ci_upper2 = round(shares_tbl[9]*30000,2)"
   ]
  },
  {
   "cell_type": "code",
   "execution_count": 244,
   "id": "c0145933-527e-410e-9dea-427a0398d2cf",
   "metadata": {},
   "outputs": [
    {
     "name": "stdout",
     "output_type": "stream",
     "text": [
      "There is a 95% chance that an initial investment of $30000.0 in the portfolio over the next 30 years will end within in the range of $102359.98 and $1201757.3\n"
     ]
    }
   ],
   "source": [
    "# Print results\n",
    "print(f\"There is a 95% chance that an initial investment of ${initial_investment2} in the portfolio\"\n",
    "      f\" over the next 30 years will end within in the range of\"\n",
    "      f\" ${ci_lower2} and ${ci_upper2}\")"
   ]
  },
  {
   "cell_type": "code",
   "execution_count": null,
   "id": "2247086d-4243-4387-be72-0c923664b4bf",
   "metadata": {},
   "outputs": [],
   "source": []
  }
 ],
 "metadata": {
  "kernelspec": {
   "display_name": "Python 3 (ipykernel)",
   "language": "python",
   "name": "python3"
  },
  "language_info": {
   "codemirror_mode": {
    "name": "ipython",
    "version": 3
   },
   "file_extension": ".py",
   "mimetype": "text/x-python",
   "name": "python",
   "nbconvert_exporter": "python",
   "pygments_lexer": "ipython3",
   "version": "3.7.13"
  }
 },
 "nbformat": 4,
 "nbformat_minor": 5
}
